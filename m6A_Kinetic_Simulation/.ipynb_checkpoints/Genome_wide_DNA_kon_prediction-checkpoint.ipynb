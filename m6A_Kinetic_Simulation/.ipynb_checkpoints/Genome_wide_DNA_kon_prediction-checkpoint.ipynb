{
 "cells": [
  {
   "cell_type": "code",
   "execution_count": 1,
   "metadata": {},
   "outputs": [],
   "source": [
    "import re\n",
    "from mechanize import Browser\n",
    "import pandas as pd\n",
    "import numpy as np\n",
    "from Bio import Entrez, SeqIO\n",
    "from tqdm.auto import tqdm, trange\n",
    "import os\n",
    "import pickle\n",
    "from urllib.error import HTTPError"
   ]
  },
  {
   "cell_type": "code",
   "execution_count": 2,
   "metadata": {},
   "outputs": [],
   "source": [
    "# predict kon of DNA using http://nablab.rice.edu/nabtools/kinetics.html\n",
    "# https://stackoverflow.com/questions/1555234/fill-form-values-in-a-web-page-via-a-python-script-not-testing/5685569#5685569\n",
    "# https://stackoverflow.com/questions/18822865/python-mechanize-fill-textarea-and-submit-a-get-method-form\n",
    "#https://stackoverflow.com/questions/36344619/getting-the-key-and-value-of-br-forms-in-mechanize\n",
    "def predict_kon(seq):\n",
    "    br = Browser()\n",
    "    br.set_handle_robots(False)\n",
    "    br.open(\"http://nablab.rice.edu/nabtools/kinetics.html\")\n",
    "    br.select_form(nr = 0)\n",
    "    br['form2_seq'] = seq\n",
    "    response = br.submit()\n",
    "    result = response.read()\n",
    "    result_lst = list(map(str, result.split()))\n",
    "\n",
    "    value_float = float(list(filter(lambda x: 'e+0' in x, result_lst))[0][2:-1])\n",
    "    \n",
    "    return value_float\n",
    "\n",
    "# get sequences from the mouse genome\n",
    "def get_seq(chromGI, st, start, stop):\n",
    "    # https://www.biostars.org/p/11431/   \n",
    "    Entrez.email = \"bei.liu@duke.com\"     # Always tell NCBI who you are\n",
    "    handle = Entrez.efetch(db=\"nucleotide\", \n",
    "                           id=chromGI, \n",
    "                           rettype=\"fasta\", \n",
    "                           strand=st, \n",
    "                           seq_start=start, \n",
    "                           seq_stop=stop)\n",
    "    record = SeqIO.read(handle, \"fasta\")\n",
    "    handle.close()\n",
    "    return record.seq "
   ]
  },
  {
   "cell_type": "code",
   "execution_count": 5,
   "metadata": {},
   "outputs": [],
   "source": [
    "# test kon prediction\n",
    "# predict_kon('AATTGCCCTAAAGCC')"
   ]
  },
  {
   "cell_type": "code",
   "execution_count": 6,
   "metadata": {},
   "outputs": [],
   "source": [
    "#https://www.biostars.org/p/155257/\n",
    "#https://www.ncbi.nlm.nih.gov/assembly/GCF_000001635.20/\n",
    "#mm19 genome according to the paper: DNA methylation on N6-adenine in mammalian embryonic stem cells\n",
    "chrom_GI_lst = [372099109,\n",
    "372099108,\n",
    "372099107,\n",
    "372099106,\n",
    "372099105,\n",
    "372099104,\n",
    "372099103,\n",
    "372099102,\n",
    "372099101,\n",
    "372099100,\n",
    "372099099,\n",
    "372099098,\n",
    "372099097,\n",
    "372099096,\n",
    "372099095,\n",
    "372099094,\n",
    "372099093,\n",
    "372099092,\n",
    "372099091,\n",
    "372099090,\n",
    "372099089,\n",
    "34538597]\n",
    "\n",
    "# read m6A sequences from Wu, T.P. et al. DNA methylation on N(6)-adenine in mammalian embryonic stem cells. Nature 532, 329-33 (2016).\n",
    "DNA_df = pd.read_csv('m6A_DNA_seq.csv')"
   ]
  },
  {
   "cell_type": "code",
   "execution_count": 8,
   "metadata": {},
   "outputs": [],
   "source": [
    "# get DNA sequences containing m6A, 12 mer, m6A at the 6th nucleotide\n",
    "seq = []\n",
    "is_A = []\n",
    "kon_pred_result = []\n",
    "\n",
    "# for i in tqdm(range(len(DNA_df))):\n",
    "#     loc = DNA_df.loc[i, 'Locus']\n",
    "#     start = loc - 5\n",
    "#     stop = loc + 6\n",
    "#     st = DNA_df.loc[i, 'strand']\n",
    "#     chrom_num = DNA_df.loc[i, 'Chromosome'][3:]\n",
    "#     if chrom_num == 'X':\n",
    "#         chromGI = 372099090\n",
    "#     elif chrom_num == 'Y':\n",
    "#         chromGI = 372099089\n",
    "#     else:\n",
    "#         chromGI = chrom_GI_lst[int(chrom_num)-1]\n",
    "        \n",
    "#     find_seq = str(get_seq(chromGI, st, start, stop))\n",
    "        \n",
    "#     seq.append(find_seq)\n",
    "#     kon_pred_result.append(predict_kon(find_seq))   "
   ]
  },
  {
   "cell_type": "code",
   "execution_count": 34,
   "metadata": {},
   "outputs": [],
   "source": [
    "# run kon prediction\n",
    "# for i in trange(len(DNA_df)):\n",
    "#     DNA_df.loc[i, 'pred_kon'] = predict_kon(DNA_df.loc[i, 'seq'])"
   ]
  },
  {
   "cell_type": "code",
   "execution_count": 66,
   "metadata": {},
   "outputs": [],
   "source": [
    "# random_DNA_df = pd.read_csv('random_DNA_seq_12bp.csv')"
   ]
  },
  {
   "cell_type": "markdown",
   "metadata": {},
   "source": [
    "# Duplex dG prediction"
   ]
  },
  {
   "cell_type": "code",
   "execution_count": 9,
   "metadata": {},
   "outputs": [],
   "source": [
    "def get_comp(seq):\n",
    "    '''\n",
    "    return complementary sequence\n",
    "    '''\n",
    "    com = ''\n",
    "    table= {'A':'T', 'C':'G', 'T':'A', 'G':'C'}\n",
    "    for i in seq:\n",
    "        com+=table[i]\n",
    "    return com\n",
    "\n",
    "# https://www.ebi.ac.uk/biomodels-static/tools/melting/\n",
    "# The MELTING5.2.0 package is needed\n",
    "# def pred_dG(seq):\n",
    "#     '''\n",
    "#     predict free energy (37C) from sequence\n",
    "#     '''\n",
    "#     os.system('/Users/Bei/Codelib/MELTING5.2.0/executable/melting -S ' + seq + ' -C '+get_comp(seq)+' -E Na=0.15 -P 0.001 -H dnadna -F 4 -nn all97 -sinMM allsanpey -ion owc2204 -O /Users/Bei/Kinetics_simulation/m6A_kinetics/Genome_m6A_kinetics_prediction/test.txt')\n",
    "\n",
    "#     with open('test.txt') as f:\n",
    "#         lines = f.readlines()\n",
    "#         dH = float(lines[2].split()[2].replace(',', ''))\n",
    "#         dS = float(lines[3].split()[2].replace(',', ''))\n",
    "#     dG = (dH-((273.15+37)*dS))/1000\n",
    "    \n",
    "#     return dG"
   ]
  },
  {
   "cell_type": "code",
   "execution_count": 10,
   "metadata": {},
   "outputs": [],
   "source": [
    "# run dG prediction for m6A sites\n",
    "# dg_DNA_lst = []\n",
    "# for i in tqdm((DNA_df['seq'].values)):\n",
    "#     dg_DNA_lst.append(pred_dG(i))"
   ]
  }
 ],
 "metadata": {
  "kernelspec": {
   "display_name": "Python 3",
   "language": "python",
   "name": "python3"
  },
  "language_info": {
   "codemirror_mode": {
    "name": "ipython",
    "version": 3
   },
   "file_extension": ".py",
   "mimetype": "text/x-python",
   "name": "python",
   "nbconvert_exporter": "python",
   "pygments_lexer": "ipython3",
   "version": "3.6.3"
  }
 },
 "nbformat": 4,
 "nbformat_minor": 2
}
